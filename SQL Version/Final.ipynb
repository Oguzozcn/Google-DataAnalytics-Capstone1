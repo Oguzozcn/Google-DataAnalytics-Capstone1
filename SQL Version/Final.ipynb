{
    "metadata": {
        "kernelspec": {
            "name": "SQL",
            "display_name": "SQL",
            "language": "sql"
        },
        "language_info": {
            "name": "sql",
            "version": ""
        }
    },
    "nbformat_minor": 2,
    "nbformat": 4,
    "cells": [
        {
            "cell_type": "code",
            "source": [
                "------------------------------------------------------\r\n",
                "--STEP 2: WRANGLE DATA AND COMBINE INTO A SINGLE FILE\r\n",
                "------------------------------------------------------\r\n",
                "\r\n",
                "-- Compared column names each of the files while the names don't have to be in the same order,\r\n",
                "-- they DO need to match perfectly before we can use a command to join them into one file\r\n",
                "\r\n",
                "SELECT COLUMN_NAME\r\n",
                "FROM INFORMATION_SCHEMA.COLUMNS\r\n",
                "WHERE TABLE_NAME = '202201-divvy-tripdata'\r\n",
                "  AND TABLE_SCHEMA = 'dbo';\r\n",
                "\r\n",
                "SELECT COLUMN_NAME\r\n",
                "FROM INFORMATION_SCHEMA.COLUMNS\r\n",
                "WHERE TABLE_NAME = '202205-divvy-tripdata'\r\n",
                "  AND TABLE_SCHEMA = 'dbo';\r\n",
                "\r\n",
                "SELECT COLUMN_NAME\r\n",
                "FROM INFORMATION_SCHEMA.COLUMNS\r\n",
                "WHERE TABLE_NAME = '202208-divvy-tripdata'\r\n",
                "  AND TABLE_SCHEMA = 'dbo';\r\n",
                ""
            ],
            "metadata": {
                "azdata_cell_guid": "ad3126c9-2f65-470b-8ac3-a8fb4c3c1496",
                "language": "sql"
            },
            "outputs": [
                {
                    "output_type": "display_data",
                    "data": {
                        "text/html": "(13 rows affected)"
                    },
                    "metadata": {}
                },
                {
                    "output_type": "display_data",
                    "data": {
                        "text/html": "(13 rows affected)"
                    },
                    "metadata": {}
                },
                {
                    "output_type": "display_data",
                    "data": {
                        "text/html": "(13 rows affected)"
                    },
                    "metadata": {}
                },
                {
                    "output_type": "display_data",
                    "data": {
                        "text/html": "Total execution time: 00:00:00.169"
                    },
                    "metadata": {}
                },
                {
                    "output_type": "execute_result",
                    "execution_count": 1,
                    "data": {
                        "application/vnd.dataresource+json": {
                            "schema": {
                                "fields": [
                                    {
                                        "name": "COLUMN_NAME"
                                    }
                                ]
                            },
                            "data": [
                                {
                                    "0": "ride_id"
                                },
                                {
                                    "0": "rideable_type"
                                },
                                {
                                    "0": "started_at"
                                },
                                {
                                    "0": "ended_at"
                                },
                                {
                                    "0": "start_station_name"
                                },
                                {
                                    "0": "start_station_id"
                                },
                                {
                                    "0": "end_station_name"
                                },
                                {
                                    "0": "end_station_id"
                                },
                                {
                                    "0": "start_lat"
                                },
                                {
                                    "0": "start_lng"
                                },
                                {
                                    "0": "end_lat"
                                },
                                {
                                    "0": "end_lng"
                                },
                                {
                                    "0": "member_casual"
                                }
                            ]
                        },
                        "text/html": "<table><tr><th>COLUMN_NAME</th></tr><tr><td>ride_id</td></tr><tr><td>rideable_type</td></tr><tr><td>started_at</td></tr><tr><td>ended_at</td></tr><tr><td>start_station_name</td></tr><tr><td>start_station_id</td></tr><tr><td>end_station_name</td></tr><tr><td>end_station_id</td></tr><tr><td>start_lat</td></tr><tr><td>start_lng</td></tr><tr><td>end_lat</td></tr><tr><td>end_lng</td></tr><tr><td>member_casual</td></tr></table>"
                    },
                    "metadata": {}
                },
                {
                    "output_type": "execute_result",
                    "execution_count": 1,
                    "data": {
                        "application/vnd.dataresource+json": {
                            "schema": {
                                "fields": [
                                    {
                                        "name": "COLUMN_NAME"
                                    }
                                ]
                            },
                            "data": [
                                {
                                    "0": "ride_id"
                                },
                                {
                                    "0": "rideable_type"
                                },
                                {
                                    "0": "started_at"
                                },
                                {
                                    "0": "ended_at"
                                },
                                {
                                    "0": "start_station_name"
                                },
                                {
                                    "0": "start_station_id"
                                },
                                {
                                    "0": "end_station_name"
                                },
                                {
                                    "0": "end_station_id"
                                },
                                {
                                    "0": "start_lat"
                                },
                                {
                                    "0": "start_lng"
                                },
                                {
                                    "0": "end_lat"
                                },
                                {
                                    "0": "end_lng"
                                },
                                {
                                    "0": "member_casual"
                                }
                            ]
                        },
                        "text/html": "<table><tr><th>COLUMN_NAME</th></tr><tr><td>ride_id</td></tr><tr><td>rideable_type</td></tr><tr><td>started_at</td></tr><tr><td>ended_at</td></tr><tr><td>start_station_name</td></tr><tr><td>start_station_id</td></tr><tr><td>end_station_name</td></tr><tr><td>end_station_id</td></tr><tr><td>start_lat</td></tr><tr><td>start_lng</td></tr><tr><td>end_lat</td></tr><tr><td>end_lng</td></tr><tr><td>member_casual</td></tr></table>"
                    },
                    "metadata": {}
                },
                {
                    "output_type": "execute_result",
                    "execution_count": 1,
                    "data": {
                        "application/vnd.dataresource+json": {
                            "schema": {
                                "fields": [
                                    {
                                        "name": "COLUMN_NAME"
                                    }
                                ]
                            },
                            "data": [
                                {
                                    "0": "ride_id"
                                },
                                {
                                    "0": "rideable_type"
                                },
                                {
                                    "0": "started_at"
                                },
                                {
                                    "0": "ended_at"
                                },
                                {
                                    "0": "start_station_name"
                                },
                                {
                                    "0": "start_station_id"
                                },
                                {
                                    "0": "end_station_name"
                                },
                                {
                                    "0": "end_station_id"
                                },
                                {
                                    "0": "start_lat"
                                },
                                {
                                    "0": "start_lng"
                                },
                                {
                                    "0": "end_lat"
                                },
                                {
                                    "0": "end_lng"
                                },
                                {
                                    "0": "member_casual"
                                }
                            ]
                        },
                        "text/html": "<table><tr><th>COLUMN_NAME</th></tr><tr><td>ride_id</td></tr><tr><td>rideable_type</td></tr><tr><td>started_at</td></tr><tr><td>ended_at</td></tr><tr><td>start_station_name</td></tr><tr><td>start_station_id</td></tr><tr><td>end_station_name</td></tr><tr><td>end_station_id</td></tr><tr><td>start_lat</td></tr><tr><td>start_lng</td></tr><tr><td>end_lat</td></tr><tr><td>end_lng</td></tr><tr><td>member_casual</td></tr></table>"
                    },
                    "metadata": {}
                }
            ],
            "execution_count": 1
        },
        {
            "cell_type": "code",
            "source": [
                "DROP TABLE all_trips;"
            ],
            "metadata": {
                "language": "sql",
                "azdata_cell_guid": "9623fef1-768e-498e-bee4-4516671ed6dc"
            },
            "outputs": [
                {
                    "output_type": "display_data",
                    "data": {
                        "text/html": "Commands completed successfully."
                    },
                    "metadata": {}
                },
                {
                    "output_type": "display_data",
                    "data": {
                        "text/html": "Total execution time: 00:00:00.135"
                    },
                    "metadata": {}
                }
            ],
            "execution_count": 8
        },
        {
            "cell_type": "code",
            "source": [
                "SELECT *\r\n",
                "FROM INFORMATION_SCHEMA.TABLES\r\n",
                "WHERE TABLE_NAME = '202204-divvy-tripdata'"
            ],
            "metadata": {
                "language": "sql",
                "azdata_cell_guid": "966b6d94-31ed-401c-be91-512acf61478c",
                "tags": []
            },
            "outputs": [
                {
                    "output_type": "display_data",
                    "data": {
                        "text/html": "(1 row affected)"
                    },
                    "metadata": {}
                },
                {
                    "output_type": "display_data",
                    "data": {
                        "text/html": "Total execution time: 00:00:00.129"
                    },
                    "metadata": {}
                },
                {
                    "output_type": "execute_result",
                    "execution_count": 7,
                    "data": {
                        "application/vnd.dataresource+json": {
                            "schema": {
                                "fields": [
                                    {
                                        "name": "TABLE_CATALOG"
                                    },
                                    {
                                        "name": "TABLE_SCHEMA"
                                    },
                                    {
                                        "name": "TABLE_NAME"
                                    },
                                    {
                                        "name": "TABLE_TYPE"
                                    }
                                ]
                            },
                            "data": [
                                {
                                    "0": "Projects",
                                    "1": "dbo",
                                    "2": "202204-divvy-tripdata",
                                    "3": "BASE TABLE"
                                }
                            ]
                        },
                        "text/html": "<table><tr><th>TABLE_CATALOG</th><th>TABLE_SCHEMA</th><th>TABLE_NAME</th><th>TABLE_TYPE</th></tr><tr><td>Projects</td><td>dbo</td><td>202204-divvy-tripdata</td><td>BASE TABLE</td></tr></table>"
                    },
                    "metadata": {}
                }
            ],
            "execution_count": 7
        },
        {
            "cell_type": "code",
            "source": [
                "SELECT *\r\n",
                "INTO all_trips\r\n",
                "FROM dbo.[202201-divvy-tripdata]\r\n",
                "UNION ALL\r\n",
                "SELECT *\r\n",
                "FROM dbo.[202202-divvy-tripdata]\r\n",
                "UNION ALL\r\n",
                "SELECT *\r\n",
                "FROM dbo.[202203-divvy-tripdata]\r\n",
                "UNION ALL\r\n",
                "SELECT *\r\n",
                "FROM dbo.[202204-divvy-tripdata]\r\n",
                "UNION ALL\r\n",
                "SELECT *\r\n",
                "FROM dbo.[202205-divvy-tripdata]\r\n",
                "UNION ALL\r\n",
                "SELECT *\r\n",
                "FROM dbo.[202206-divvy-tripdata]\r\n",
                "UNION ALL\r\n",
                "SELECT *\r\n",
                "FROM dbo.[202207-divvy-tripdata]\r\n",
                "UNION ALL\r\n",
                "SELECT *\r\n",
                "FROM dbo.[202204-divvy-tripdata]\r\n",
                "UNION ALL\r\n",
                "SELECT *\r\n",
                "FROM dbo.[202205-divvy-tripdata]\r\n",
                "UNION ALL\r\n",
                "SELECT *\r\n",
                "FROM dbo.[202206-divvy-tripdata]\r\n",
                "UNION ALL\r\n",
                "SELECT *\r\n",
                "FROM dbo.[202207-divvy-tripdata]\r\n",
                "UNION ALL\r\n",
                "SELECT *\r\n",
                "FROM dbo.[202208-divvy-tripdata]\r\n",
                "UNION ALL\r\n",
                "SELECT *\r\n",
                "FROM dbo.[202209-divvy-tripdata]\r\n",
                "UNION ALL\r\n",
                "SELECT *\r\n",
                "FROM dbo.[202210-divvy-tripdata]\r\n",
                "UNION ALL\r\n",
                "SELECT *\r\n",
                "FROM dbo.[202211-divvy-tripdata]\r\n",
                "UNION ALL\r\n",
                "SELECT *\r\n",
                "FROM dbo.[202212-divvy-tripdata]\r\n",
                ""
            ],
            "metadata": {
                "azdata_cell_guid": "94d5be37-4b13-4460-a2e6-c441095d8268",
                "language": "sql"
            },
            "outputs": [
                {
                    "output_type": "display_data",
                    "data": {
                        "text/html": "(8266516 rows affected)"
                    },
                    "metadata": {}
                },
                {
                    "output_type": "display_data",
                    "data": {
                        "text/html": "Total execution time: 00:04:10.382"
                    },
                    "metadata": {}
                }
            ],
            "execution_count": 9
        },
        {
            "cell_type": "code",
            "source": [
                "SELECT COLUMN_NAME\r\n",
                "FROM INFORMATION_SCHEMA.COLUMNS\r\n",
                "WHERE TABLE_NAME = 'all_trips'\r\n",
                "  AND TABLE_SCHEMA = 'dbo';"
            ],
            "metadata": {
                "azdata_cell_guid": "73fe6138-a664-4d7e-ba8d-80f837baa4db",
                "language": "sql"
            },
            "outputs": [
                {
                    "output_type": "display_data",
                    "data": {
                        "text/html": "(13 rows affected)"
                    },
                    "metadata": {}
                },
                {
                    "output_type": "display_data",
                    "data": {
                        "text/html": "Total execution time: 00:00:00.148"
                    },
                    "metadata": {}
                },
                {
                    "output_type": "execute_result",
                    "execution_count": 11,
                    "data": {
                        "application/vnd.dataresource+json": {
                            "schema": {
                                "fields": [
                                    {
                                        "name": "COLUMN_NAME"
                                    }
                                ]
                            },
                            "data": [
                                {
                                    "0": "ride_id"
                                },
                                {
                                    "0": "rideable_type"
                                },
                                {
                                    "0": "started_at"
                                },
                                {
                                    "0": "ended_at"
                                },
                                {
                                    "0": "start_station_name"
                                },
                                {
                                    "0": "start_station_id"
                                },
                                {
                                    "0": "end_station_name"
                                },
                                {
                                    "0": "end_station_id"
                                },
                                {
                                    "0": "start_lat"
                                },
                                {
                                    "0": "start_lng"
                                },
                                {
                                    "0": "end_lat"
                                },
                                {
                                    "0": "end_lng"
                                },
                                {
                                    "0": "member_casual"
                                }
                            ]
                        },
                        "text/html": "<table><tr><th>COLUMN_NAME</th></tr><tr><td>ride_id</td></tr><tr><td>rideable_type</td></tr><tr><td>started_at</td></tr><tr><td>ended_at</td></tr><tr><td>start_station_name</td></tr><tr><td>start_station_id</td></tr><tr><td>end_station_name</td></tr><tr><td>end_station_id</td></tr><tr><td>start_lat</td></tr><tr><td>start_lng</td></tr><tr><td>end_lat</td></tr><tr><td>end_lng</td></tr><tr><td>member_casual</td></tr></table>"
                    },
                    "metadata": {}
                }
            ],
            "execution_count": 11
        },
        {
            "cell_type": "code",
            "source": [
                "SELECT DATA_TYPE\r\n",
                "FROM INFORMATION_SCHEMA.COLUMNS\r\n",
                "WHERE TABLE_NAME = 'all_trips'\r\n",
                "AND COLUMN_NAME IN ('ride_id', 'rideable_type')"
            ],
            "metadata": {
                "azdata_cell_guid": "c977c61b-eeb0-4e46-940f-626a1c3eb251",
                "language": "sql"
            },
            "outputs": [
                {
                    "output_type": "display_data",
                    "data": {
                        "text/html": "(2 rows affected)"
                    },
                    "metadata": {}
                },
                {
                    "output_type": "display_data",
                    "data": {
                        "text/html": "Total execution time: 00:00:00.851"
                    },
                    "metadata": {}
                },
                {
                    "output_type": "execute_result",
                    "execution_count": 12,
                    "data": {
                        "application/vnd.dataresource+json": {
                            "schema": {
                                "fields": [
                                    {
                                        "name": "DATA_TYPE"
                                    }
                                ]
                            },
                            "data": [
                                {
                                    "0": "nvarchar"
                                },
                                {
                                    "0": "nvarchar"
                                }
                            ]
                        },
                        "text/html": "<table><tr><th>DATA_TYPE</th></tr><tr><td>nvarchar</td></tr><tr><td>nvarchar</td></tr></table>"
                    },
                    "metadata": {}
                }
            ],
            "execution_count": 12
        },
        {
            "cell_type": "code",
            "source": [
                "ALTER TABLE all_trips\r\n",
                "DROP COLUMN start_lat;\r\n",
                "\r\n",
                "ALTER TABLE all_trips\r\n",
                "DROP COLUMN start_lng;\r\n",
                "\r\n",
                "ALTER TABLE all_trips\r\n",
                "DROP COLUMN end_lat;\r\n",
                "\r\n",
                "ALTER TABLE all_trips\r\n",
                "DROP COLUMN end_lng;"
            ],
            "metadata": {
                "azdata_cell_guid": "c14bf247-e35d-452d-b1b3-3cbb1c2a37fc",
                "language": "sql"
            },
            "outputs": [
                {
                    "output_type": "display_data",
                    "data": {
                        "text/html": "Commands completed successfully."
                    },
                    "metadata": {}
                },
                {
                    "output_type": "display_data",
                    "data": {
                        "text/html": "Total execution time: 00:00:00.183"
                    },
                    "metadata": {}
                }
            ],
            "execution_count": 13
        },
        {
            "cell_type": "code",
            "source": [
                "SELECT COLUMN_NAME\r\n",
                "FROM INFORMATION_SCHEMA.COLUMNS\r\n",
                "WHERE TABLE_NAME = 'all_trips'\r\n",
                "  AND TABLE_SCHEMA = 'dbo';"
            ],
            "metadata": {
                "azdata_cell_guid": "f6e175f2-a822-4c1c-b2a2-8b26587f099e",
                "language": "sql"
            },
            "outputs": [
                {
                    "output_type": "display_data",
                    "data": {
                        "text/html": "(9 rows affected)"
                    },
                    "metadata": {}
                },
                {
                    "output_type": "display_data",
                    "data": {
                        "text/html": "Total execution time: 00:00:00.137"
                    },
                    "metadata": {}
                },
                {
                    "output_type": "execute_result",
                    "execution_count": 14,
                    "data": {
                        "application/vnd.dataresource+json": {
                            "schema": {
                                "fields": [
                                    {
                                        "name": "COLUMN_NAME"
                                    }
                                ]
                            },
                            "data": [
                                {
                                    "0": "ride_id"
                                },
                                {
                                    "0": "rideable_type"
                                },
                                {
                                    "0": "started_at"
                                },
                                {
                                    "0": "ended_at"
                                },
                                {
                                    "0": "start_station_name"
                                },
                                {
                                    "0": "start_station_id"
                                },
                                {
                                    "0": "end_station_name"
                                },
                                {
                                    "0": "end_station_id"
                                },
                                {
                                    "0": "member_casual"
                                }
                            ]
                        },
                        "text/html": "<table><tr><th>COLUMN_NAME</th></tr><tr><td>ride_id</td></tr><tr><td>rideable_type</td></tr><tr><td>started_at</td></tr><tr><td>ended_at</td></tr><tr><td>start_station_name</td></tr><tr><td>start_station_id</td></tr><tr><td>end_station_name</td></tr><tr><td>end_station_id</td></tr><tr><td>member_casual</td></tr></table>"
                    },
                    "metadata": {}
                }
            ],
            "execution_count": 14
        },
        {
            "cell_type": "code",
            "source": [
                "EXEC sp_rename 'all_trips.ride_id', 'trip_id', 'COLUMN';\r\n",
                "EXEC sp_rename 'all_trips.rideable_type', 'bikeid', 'COLUMN';\r\n",
                "EXEC sp_rename 'all_trips.started_at', 'start_time', 'COLUMN';\r\n",
                "EXEC sp_rename 'all_trips.ended_at', 'end_time', 'COLUMN';\r\n",
                "EXEC sp_rename 'all_trips.start_station_name', 'from_station_name', 'COLUMN';\r\n",
                "EXEC sp_rename 'all_trips.start_station_id', 'from_station_id', 'COLUMN';\r\n",
                "EXEC sp_rename 'all_trips.end_station_name', 'to_station_name', 'COLUMN';\r\n",
                "EXEC sp_rename 'all_trips.end_station_id', 'to_station_id', 'COLUMN';\r\n",
                "EXEC sp_rename 'all_trips.member_casual', 'usertype', 'COLUMN';"
            ],
            "metadata": {
                "azdata_cell_guid": "0579b5fb-0929-4f89-ad58-91070cc41ca9",
                "language": "sql"
            },
            "outputs": [
                {
                    "output_type": "display_data",
                    "data": {
                        "text/html": "Caution: Changing any part of an object name could break scripts and stored procedures."
                    },
                    "metadata": {}
                },
                {
                    "output_type": "display_data",
                    "data": {
                        "text/html": "Caution: Changing any part of an object name could break scripts and stored procedures."
                    },
                    "metadata": {}
                },
                {
                    "output_type": "display_data",
                    "data": {
                        "text/html": "Caution: Changing any part of an object name could break scripts and stored procedures."
                    },
                    "metadata": {}
                },
                {
                    "output_type": "display_data",
                    "data": {
                        "text/html": "Caution: Changing any part of an object name could break scripts and stored procedures."
                    },
                    "metadata": {}
                },
                {
                    "output_type": "display_data",
                    "data": {
                        "text/html": "Caution: Changing any part of an object name could break scripts and stored procedures."
                    },
                    "metadata": {}
                },
                {
                    "output_type": "display_data",
                    "data": {
                        "text/html": "Caution: Changing any part of an object name could break scripts and stored procedures."
                    },
                    "metadata": {}
                },
                {
                    "output_type": "display_data",
                    "data": {
                        "text/html": "Caution: Changing any part of an object name could break scripts and stored procedures."
                    },
                    "metadata": {}
                },
                {
                    "output_type": "display_data",
                    "data": {
                        "text/html": "Caution: Changing any part of an object name could break scripts and stored procedures."
                    },
                    "metadata": {}
                },
                {
                    "output_type": "display_data",
                    "data": {
                        "text/html": "Caution: Changing any part of an object name could break scripts and stored procedures."
                    },
                    "metadata": {}
                },
                {
                    "output_type": "display_data",
                    "data": {
                        "text/html": "Total execution time: 00:00:00.347"
                    },
                    "metadata": {}
                }
            ],
            "execution_count": 15
        },
        {
            "cell_type": "code",
            "source": [
                "SELECT COLUMN_NAME\r\n",
                "FROM INFORMATION_SCHEMA.COLUMNS\r\n",
                "WHERE TABLE_NAME = 'all_trips'\r\n",
                "  AND TABLE_SCHEMA = 'dbo';"
            ],
            "metadata": {
                "azdata_cell_guid": "8b099e41-28b8-4ea3-a131-1f7d9f296fc0",
                "language": "sql"
            },
            "outputs": [
                {
                    "output_type": "display_data",
                    "data": {
                        "text/html": "(9 rows affected)"
                    },
                    "metadata": {}
                },
                {
                    "output_type": "display_data",
                    "data": {
                        "text/html": "Total execution time: 00:00:00.139"
                    },
                    "metadata": {}
                },
                {
                    "output_type": "execute_result",
                    "execution_count": 16,
                    "data": {
                        "application/vnd.dataresource+json": {
                            "schema": {
                                "fields": [
                                    {
                                        "name": "COLUMN_NAME"
                                    }
                                ]
                            },
                            "data": [
                                {
                                    "0": "trip_id"
                                },
                                {
                                    "0": "bikeid"
                                },
                                {
                                    "0": "start_time"
                                },
                                {
                                    "0": "end_time"
                                },
                                {
                                    "0": "from_station_name"
                                },
                                {
                                    "0": "from_station_id"
                                },
                                {
                                    "0": "to_station_name"
                                },
                                {
                                    "0": "to_station_id"
                                },
                                {
                                    "0": "usertype"
                                }
                            ]
                        },
                        "text/html": "<table><tr><th>COLUMN_NAME</th></tr><tr><td>trip_id</td></tr><tr><td>bikeid</td></tr><tr><td>start_time</td></tr><tr><td>end_time</td></tr><tr><td>from_station_name</td></tr><tr><td>from_station_id</td></tr><tr><td>to_station_name</td></tr><tr><td>to_station_id</td></tr><tr><td>usertype</td></tr></table>"
                    },
                    "metadata": {}
                }
            ],
            "execution_count": 16
        },
        {
            "cell_type": "code",
            "source": [
                "SELECT COUNT(*) FROM dbo.all_trips;\r\n",
                "\r\n",
                "SELECT TOP 6 * FROM dbo.all_trips;\r\n",
                "\r\n",
                "SELECT COLUMN_NAME, DATA_TYPE \r\n",
                "FROM INFORMATION_SCHEMA.COLUMNS \r\n",
                "WHERE TABLE_NAME = 'all_trips';"
            ],
            "metadata": {
                "azdata_cell_guid": "1597f4db-e8c4-4688-8707-3a1ab37dc89e",
                "language": "sql"
            },
            "outputs": [
                {
                    "output_type": "display_data",
                    "data": {
                        "text/html": "(1 row affected)"
                    },
                    "metadata": {}
                },
                {
                    "output_type": "display_data",
                    "data": {
                        "text/html": "(6 rows affected)"
                    },
                    "metadata": {}
                },
                {
                    "output_type": "display_data",
                    "data": {
                        "text/html": "(9 rows affected)"
                    },
                    "metadata": {}
                },
                {
                    "output_type": "display_data",
                    "data": {
                        "text/html": "Total execution time: 00:00:01.609"
                    },
                    "metadata": {}
                },
                {
                    "output_type": "execute_result",
                    "execution_count": 17,
                    "data": {
                        "application/vnd.dataresource+json": {
                            "schema": {
                                "fields": [
                                    {
                                        "name": "(No column name)"
                                    }
                                ]
                            },
                            "data": [
                                {
                                    "0": "8266516"
                                }
                            ]
                        },
                        "text/html": "<table><tr><th>(No column name)</th></tr><tr><td>8266516</td></tr></table>"
                    },
                    "metadata": {}
                },
                {
                    "output_type": "execute_result",
                    "execution_count": 17,
                    "data": {
                        "application/vnd.dataresource+json": {
                            "schema": {
                                "fields": [
                                    {
                                        "name": "trip_id"
                                    },
                                    {
                                        "name": "bikeid"
                                    },
                                    {
                                        "name": "start_time"
                                    },
                                    {
                                        "name": "end_time"
                                    },
                                    {
                                        "name": "from_station_name"
                                    },
                                    {
                                        "name": "from_station_id"
                                    },
                                    {
                                        "name": "to_station_name"
                                    },
                                    {
                                        "name": "to_station_id"
                                    },
                                    {
                                        "name": "usertype"
                                    }
                                ]
                            },
                            "data": [
                                {
                                    "0": "D96B19A36D870FB8",
                                    "1": "electric_bike",
                                    "2": "2022-03-04 16:05:26.0000000",
                                    "3": "2022-03-04 18:12:29.0000000",
                                    "4": "NULL",
                                    "5": "NULL",
                                    "6": "NULL",
                                    "7": "NULL",
                                    "8": "casual"
                                },
                                {
                                    "0": "0C22011A0255D3CF",
                                    "1": "electric_bike",
                                    "2": "2022-03-03 19:51:44.0000000",
                                    "3": "2022-03-03 20:03:52.0000000",
                                    "4": "NULL",
                                    "5": "NULL",
                                    "6": "NULL",
                                    "7": "NULL",
                                    "8": "casual"
                                },
                                {
                                    "0": "87A72ACDA5587F8F",
                                    "1": "electric_bike",
                                    "2": "2022-03-03 19:48:51.0000000",
                                    "3": "2022-03-03 19:49:04.0000000",
                                    "4": "NULL",
                                    "5": "NULL",
                                    "6": "NULL",
                                    "7": "NULL",
                                    "8": "casual"
                                },
                                {
                                    "0": "40B1F40195023084",
                                    "1": "electric_bike",
                                    "2": "2022-03-03 18:13:44.0000000",
                                    "3": "2022-03-03 20:53:24.0000000",
                                    "4": "NULL",
                                    "5": "NULL",
                                    "6": "NULL",
                                    "7": "NULL",
                                    "8": "casual"
                                },
                                {
                                    "0": "A0EAF4A0A1C71406",
                                    "1": "electric_bike",
                                    "2": "2022-03-03 18:04:36.0000000",
                                    "3": "2022-03-03 18:10:38.0000000",
                                    "4": "NULL",
                                    "5": "NULL",
                                    "6": "NULL",
                                    "7": "NULL",
                                    "8": "casual"
                                },
                                {
                                    "0": "9F772A82C9F25ED8",
                                    "1": "electric_bike",
                                    "2": "2022-03-03 19:39:22.0000000",
                                    "3": "2022-03-03 20:09:01.0000000",
                                    "4": "NULL",
                                    "5": "NULL",
                                    "6": "NULL",
                                    "7": "NULL",
                                    "8": "casual"
                                }
                            ]
                        },
                        "text/html": "<table><tr><th>trip_id</th><th>bikeid</th><th>start_time</th><th>end_time</th><th>from_station_name</th><th>from_station_id</th><th>to_station_name</th><th>to_station_id</th><th>usertype</th></tr><tr><td>D96B19A36D870FB8</td><td>electric_bike</td><td>2022-03-04 16:05:26.0000000</td><td>2022-03-04 18:12:29.0000000</td><td>NULL</td><td>NULL</td><td>NULL</td><td>NULL</td><td>casual</td></tr><tr><td>0C22011A0255D3CF</td><td>electric_bike</td><td>2022-03-03 19:51:44.0000000</td><td>2022-03-03 20:03:52.0000000</td><td>NULL</td><td>NULL</td><td>NULL</td><td>NULL</td><td>casual</td></tr><tr><td>87A72ACDA5587F8F</td><td>electric_bike</td><td>2022-03-03 19:48:51.0000000</td><td>2022-03-03 19:49:04.0000000</td><td>NULL</td><td>NULL</td><td>NULL</td><td>NULL</td><td>casual</td></tr><tr><td>40B1F40195023084</td><td>electric_bike</td><td>2022-03-03 18:13:44.0000000</td><td>2022-03-03 20:53:24.0000000</td><td>NULL</td><td>NULL</td><td>NULL</td><td>NULL</td><td>casual</td></tr><tr><td>A0EAF4A0A1C71406</td><td>electric_bike</td><td>2022-03-03 18:04:36.0000000</td><td>2022-03-03 18:10:38.0000000</td><td>NULL</td><td>NULL</td><td>NULL</td><td>NULL</td><td>casual</td></tr><tr><td>9F772A82C9F25ED8</td><td>electric_bike</td><td>2022-03-03 19:39:22.0000000</td><td>2022-03-03 20:09:01.0000000</td><td>NULL</td><td>NULL</td><td>NULL</td><td>NULL</td><td>casual</td></tr></table>"
                    },
                    "metadata": {}
                },
                {
                    "output_type": "execute_result",
                    "execution_count": 17,
                    "data": {
                        "application/vnd.dataresource+json": {
                            "schema": {
                                "fields": [
                                    {
                                        "name": "COLUMN_NAME"
                                    },
                                    {
                                        "name": "DATA_TYPE"
                                    }
                                ]
                            },
                            "data": [
                                {
                                    "0": "trip_id",
                                    "1": "nvarchar"
                                },
                                {
                                    "0": "bikeid",
                                    "1": "nvarchar"
                                },
                                {
                                    "0": "start_time",
                                    "1": "datetime2"
                                },
                                {
                                    "0": "end_time",
                                    "1": "datetime2"
                                },
                                {
                                    "0": "from_station_name",
                                    "1": "nvarchar"
                                },
                                {
                                    "0": "from_station_id",
                                    "1": "nvarchar"
                                },
                                {
                                    "0": "to_station_name",
                                    "1": "nvarchar"
                                },
                                {
                                    "0": "to_station_id",
                                    "1": "nvarchar"
                                },
                                {
                                    "0": "usertype",
                                    "1": "nvarchar"
                                }
                            ]
                        },
                        "text/html": "<table><tr><th>COLUMN_NAME</th><th>DATA_TYPE</th></tr><tr><td>trip_id</td><td>nvarchar</td></tr><tr><td>bikeid</td><td>nvarchar</td></tr><tr><td>start_time</td><td>datetime2</td></tr><tr><td>end_time</td><td>datetime2</td></tr><tr><td>from_station_name</td><td>nvarchar</td></tr><tr><td>from_station_id</td><td>nvarchar</td></tr><tr><td>to_station_name</td><td>nvarchar</td></tr><tr><td>to_station_id</td><td>nvarchar</td></tr><tr><td>usertype</td><td>nvarchar</td></tr></table>"
                    },
                    "metadata": {}
                }
            ],
            "execution_count": 17
        },
        {
            "cell_type": "code",
            "source": [
                "SELECT TOP 20 usertype FROM all_trips ORDER BY trip_id DESC;\r\n",
                "\r\n",
                "SELECT DISTINCT usertype FROM all_trips;\r\n",
                "\r\n",
                "SELECT usertype, COUNT(*) as count FROM all_trips GROUP BY usertype;\r\n",
                ""
            ],
            "metadata": {
                "azdata_cell_guid": "626fb925-17cd-4453-9fc7-f58f69b89a18",
                "language": "sql"
            },
            "outputs": [
                {
                    "output_type": "display_data",
                    "data": {
                        "text/html": "(20 rows affected)"
                    },
                    "metadata": {}
                },
                {
                    "output_type": "display_data",
                    "data": {
                        "text/html": "(2 rows affected)"
                    },
                    "metadata": {}
                },
                {
                    "output_type": "display_data",
                    "data": {
                        "text/html": "(2 rows affected)"
                    },
                    "metadata": {}
                },
                {
                    "output_type": "display_data",
                    "data": {
                        "text/html": "Total execution time: 00:00:08.589"
                    },
                    "metadata": {}
                },
                {
                    "output_type": "execute_result",
                    "execution_count": 23,
                    "data": {
                        "application/vnd.dataresource+json": {
                            "schema": {
                                "fields": [
                                    {
                                        "name": "usertype"
                                    }
                                ]
                            },
                            "data": [
                                {
                                    "0": "member"
                                },
                                {
                                    "0": "member"
                                },
                                {
                                    "0": "casual"
                                },
                                {
                                    "0": "casual"
                                },
                                {
                                    "0": "casual"
                                },
                                {
                                    "0": "member"
                                },
                                {
                                    "0": "member"
                                },
                                {
                                    "0": "casual"
                                },
                                {
                                    "0": "casual"
                                },
                                {
                                    "0": "casual"
                                },
                                {
                                    "0": "member"
                                },
                                {
                                    "0": "member"
                                },
                                {
                                    "0": "member"
                                },
                                {
                                    "0": "member"
                                },
                                {
                                    "0": "member"
                                },
                                {
                                    "0": "casual"
                                },
                                {
                                    "0": "member"
                                },
                                {
                                    "0": "member"
                                },
                                {
                                    "0": "casual"
                                },
                                {
                                    "0": "casual"
                                }
                            ]
                        },
                        "text/html": "<table><tr><th>usertype</th></tr><tr><td>member</td></tr><tr><td>member</td></tr><tr><td>casual</td></tr><tr><td>casual</td></tr><tr><td>casual</td></tr><tr><td>member</td></tr><tr><td>member</td></tr><tr><td>casual</td></tr><tr><td>casual</td></tr><tr><td>casual</td></tr><tr><td>member</td></tr><tr><td>member</td></tr><tr><td>member</td></tr><tr><td>member</td></tr><tr><td>member</td></tr><tr><td>casual</td></tr><tr><td>member</td></tr><tr><td>member</td></tr><tr><td>casual</td></tr><tr><td>casual</td></tr></table>"
                    },
                    "metadata": {}
                },
                {
                    "output_type": "execute_result",
                    "execution_count": 23,
                    "data": {
                        "application/vnd.dataresource+json": {
                            "schema": {
                                "fields": [
                                    {
                                        "name": "usertype"
                                    }
                                ]
                            },
                            "data": [
                                {
                                    "0": "casual"
                                },
                                {
                                    "0": "member"
                                }
                            ]
                        },
                        "text/html": "<table><tr><th>usertype</th></tr><tr><td>casual</td></tr><tr><td>member</td></tr></table>"
                    },
                    "metadata": {}
                },
                {
                    "output_type": "execute_result",
                    "execution_count": 23,
                    "data": {
                        "application/vnd.dataresource+json": {
                            "schema": {
                                "fields": [
                                    {
                                        "name": "usertype"
                                    },
                                    {
                                        "name": "count"
                                    }
                                ]
                            },
                            "data": [
                                {
                                    "0": "casual",
                                    "1": "3503970"
                                },
                                {
                                    "0": "member",
                                    "1": "4762546"
                                }
                            ]
                        },
                        "text/html": "<table><tr><th>usertype</th><th>count</th></tr><tr><td>casual</td><td>3503970</td></tr><tr><td>member</td><td>4762546</td></tr></table>"
                    },
                    "metadata": {}
                }
            ],
            "execution_count": 23
        },
        {
            "cell_type": "code",
            "source": [
                "ALTER TABLE all_trips\r\n",
                "ADD date date,\r\n",
                "    month varchar(2),\r\n",
                "    day varchar(2),\r\n",
                "    year varchar(4),\r\n",
                "    day_of_week varchar(9);\r\n",
                ""
            ],
            "metadata": {
                "azdata_cell_guid": "9533c4d9-a9aa-4846-89c8-5eb44c9f5458",
                "language": "sql",
                "tags": [
                    "hide_input"
                ]
            },
            "outputs": [
                {
                    "output_type": "display_data",
                    "data": {
                        "text/html": "Commands completed successfully."
                    },
                    "metadata": {}
                },
                {
                    "output_type": "display_data",
                    "data": {
                        "text/html": "Total execution time: 00:00:00.159"
                    },
                    "metadata": {}
                }
            ],
            "execution_count": 26
        },
        {
            "cell_type": "code",
            "source": [
                "UPDATE all_trips\r\n",
                "SET date = CONVERT(date, start_time),\r\n",
                "    month = FORMAT(start_time, 'MM'),\r\n",
                "    day = FORMAT(start_time, 'dd'),\r\n",
                "    year = FORMAT(start_time, 'yyyy'),\r\n",
                "    day_of_week = FORMAT(start_time, 'dddd');"
            ],
            "metadata": {
                "azdata_cell_guid": "521dacee-a01e-40a1-b287-671b2d189276",
                "language": "sql",
                "tags": []
            },
            "outputs": [
                {
                    "output_type": "display_data",
                    "data": {
                        "text/html": "(8266516 rows affected)"
                    },
                    "metadata": {}
                },
                {
                    "output_type": "display_data",
                    "data": {
                        "text/html": "Total execution time: 00:05:05.713"
                    },
                    "metadata": {}
                }
            ],
            "execution_count": 1
        },
        {
            "cell_type": "code",
            "source": [
                "ALTER TABLE all_trips ADD ride_length INT;"
            ],
            "metadata": {
                "azdata_cell_guid": "234f9f1f-cfdf-4779-9ee3-9e84e0c41820",
                "language": "sql"
            },
            "outputs": [
                {
                    "output_type": "display_data",
                    "data": {
                        "text/html": "Commands completed successfully."
                    },
                    "metadata": {}
                },
                {
                    "output_type": "display_data",
                    "data": {
                        "text/html": "Total execution time: 00:00:00.134"
                    },
                    "metadata": {}
                }
            ],
            "execution_count": 7
        },
        {
            "cell_type": "code",
            "source": [
                "UPDATE all_trips SET ride_length = DATEDIFF(second, start_time, end_time);"
            ],
            "metadata": {
                "azdata_cell_guid": "cf0e2c7c-2817-4647-b273-468555834d6b",
                "language": "sql"
            },
            "outputs": [
                {
                    "output_type": "display_data",
                    "data": {
                        "text/html": "(8266516 rows affected)"
                    },
                    "metadata": {}
                },
                {
                    "output_type": "display_data",
                    "data": {
                        "text/html": "Total execution time: 00:03:46.635"
                    },
                    "metadata": {}
                }
            ],
            "execution_count": 8
        },
        {
            "cell_type": "code",
            "source": [
                "SELECT TOP 10 ride_length, COUNT(*) AS count\r\n",
                "FROM all_trips\r\n",
                "GROUP BY ride_length;"
            ],
            "metadata": {
                "azdata_cell_guid": "acfda17c-42da-406e-9d22-72034d11a2d2",
                "language": "sql"
            },
            "outputs": [
                {
                    "output_type": "display_data",
                    "data": {
                        "text/html": "(10 rows affected)"
                    },
                    "metadata": {}
                },
                {
                    "output_type": "display_data",
                    "data": {
                        "text/html": "Total execution time: 00:00:02.621"
                    },
                    "metadata": {}
                },
                {
                    "output_type": "execute_result",
                    "execution_count": 10,
                    "data": {
                        "application/vnd.dataresource+json": {
                            "schema": {
                                "fields": [
                                    {
                                        "name": "ride_length"
                                    },
                                    {
                                        "name": "count"
                                    }
                                ]
                            },
                            "data": [
                                {
                                    "0": "1369",
                                    "1": "1978"
                                },
                                {
                                    "0": "409",
                                    "1": "8088"
                                },
                                {
                                    "0": "884",
                                    "1": "4048"
                                },
                                {
                                    "0": "186",
                                    "1": "6672"
                                },
                                {
                                    "0": "1597",
                                    "1": "1314"
                                },
                                {
                                    "0": "153",
                                    "1": "5095"
                                },
                                {
                                    "0": "374",
                                    "1": "8402"
                                },
                                {
                                    "0": "731",
                                    "1": "5166"
                                },
                                {
                                    "0": "816",
                                    "1": "4516"
                                },
                                {
                                    "0": "459",
                                    "1": "7847"
                                }
                            ]
                        },
                        "text/html": "<table><tr><th>ride_length</th><th>count</th></tr><tr><td>1369</td><td>1978</td></tr><tr><td>409</td><td>8088</td></tr><tr><td>884</td><td>4048</td></tr><tr><td>186</td><td>6672</td></tr><tr><td>1597</td><td>1314</td></tr><tr><td>153</td><td>5095</td></tr><tr><td>374</td><td>8402</td></tr><tr><td>731</td><td>5166</td></tr><tr><td>816</td><td>4516</td></tr><tr><td>459</td><td>7847</td></tr></table>"
                    },
                    "metadata": {}
                }
            ],
            "execution_count": 10
        },
        {
            "cell_type": "code",
            "source": [
                "SELECT *\r\n",
                "INTO all_trips_cleaned\r\n",
                "FROM all_trips\r\n",
                "WHERE from_station_name <> 'HQ QR' AND ride_length >= 0;"
            ],
            "metadata": {
                "azdata_cell_guid": "d8d4dd44-1be2-4168-a144-774d4dbe6237",
                "language": "sql"
            },
            "outputs": [
                {
                    "output_type": "display_data",
                    "data": {
                        "text/html": "(7070791 rows affected)"
                    },
                    "metadata": {}
                },
                {
                    "output_type": "display_data",
                    "data": {
                        "text/html": "Total execution time: 00:03:41.454"
                    },
                    "metadata": {}
                }
            ],
            "execution_count": 11
        },
        {
            "cell_type": "code",
            "source": [
                "DELETE FROM all_trips_cleaned WHERE from_station_name IS NULL OR to_station_name IS NULL OR start_time IS NULL OR end_time IS NULL;"
            ],
            "metadata": {
                "azdata_cell_guid": "9cd7a873-77a0-4568-8e48-3a674b35c5b7",
                "language": "sql"
            },
            "outputs": [
                {
                    "output_type": "display_data",
                    "data": {
                        "text/html": "(663381 rows affected)"
                    },
                    "metadata": {}
                },
                {
                    "output_type": "display_data",
                    "data": {
                        "text/html": "Total execution time: 00:00:23.048"
                    },
                    "metadata": {}
                }
            ],
            "execution_count": 12
        },
        {
            "cell_type": "code",
            "source": [
                "-- Calculate ride length statistics in minutes\r\n",
                "SELECT AVG(ride_length/60.0) AS avg_ride_length,\r\n",
                "       MAX(ride_length/60.0) AS max_ride_length,\r\n",
                "       MIN(ride_length/60.0) AS min_ride_length\r\n",
                "FROM all_trips_cleaned;"
            ],
            "metadata": {
                "azdata_cell_guid": "166fd519-32ba-450d-8834-4e09ba60b0e1",
                "language": "sql"
            },
            "outputs": [
                {
                    "output_type": "display_data",
                    "data": {
                        "text/html": "(1 row affected)"
                    },
                    "metadata": {}
                },
                {
                    "output_type": "display_data",
                    "data": {
                        "text/html": "Total execution time: 00:00:01.813"
                    },
                    "metadata": {}
                },
                {
                    "output_type": "execute_result",
                    "execution_count": 14,
                    "data": {
                        "application/vnd.dataresource+json": {
                            "schema": {
                                "fields": [
                                    {
                                        "name": "avg_ride_length"
                                    },
                                    {
                                        "name": "max_ride_length"
                                    },
                                    {
                                        "name": "min_ride_length"
                                    }
                                ]
                            },
                            "data": [
                                {
                                    "0": "17.655317",
                                    "1": "34354.066666",
                                    "2": "0.000000"
                                }
                            ]
                        },
                        "text/html": "<table><tr><th>avg_ride_length</th><th>max_ride_length</th><th>min_ride_length</th></tr><tr><td>17.655317</td><td>34354.066666</td><td>0.000000</td></tr></table>"
                    },
                    "metadata": {}
                }
            ],
            "execution_count": 14
        },
        {
            "cell_type": "code",
            "source": [
                "SELECT \r\n",
                "    all_trips_cleaned.usertype,\r\n",
                "    AVG(CAST(all_trips_cleaned.ride_length AS DECIMAL(18,2))) AS avg_ride_length\r\n",
                "FROM all_trips_cleaned\r\n",
                "WHERE all_trips_cleaned.usertype = 'Member' OR all_trips_cleaned.usertype = 'Casual'\r\n",
                "GROUP BY all_trips_cleaned.usertype;\r\n",
                ""
            ],
            "metadata": {
                "azdata_cell_guid": "11e137c9-7398-4762-a1fb-d3f4c32b4cbc",
                "language": "sql"
            },
            "outputs": [
                {
                    "output_type": "display_data",
                    "data": {
                        "text/html": "(2 rows affected)"
                    },
                    "metadata": {}
                },
                {
                    "output_type": "display_data",
                    "data": {
                        "text/html": "Total execution time: 00:00:03.292"
                    },
                    "metadata": {}
                },
                {
                    "output_type": "execute_result",
                    "execution_count": 26,
                    "data": {
                        "application/vnd.dataresource+json": {
                            "schema": {
                                "fields": [
                                    {
                                        "name": "usertype"
                                    },
                                    {
                                        "name": "avg_ride_length"
                                    }
                                ]
                            },
                            "data": [
                                {
                                    "0": "casual",
                                    "1": "1476.374833"
                                },
                                {
                                    "0": "member",
                                    "1": "760.603278"
                                }
                            ]
                        },
                        "text/html": "<table><tr><th>usertype</th><th>avg_ride_length</th></tr><tr><td>casual</td><td>1476.374833</td></tr><tr><td>member</td><td>760.603278</td></tr></table>"
                    },
                    "metadata": {}
                }
            ],
            "execution_count": 26
        },
        {
            "cell_type": "code",
            "source": [
                "SELECT \r\n",
                "    all_trips_cleaned.usertype,\r\n",
                "    MAX(CAST(all_trips_cleaned.ride_length AS DECIMAL(18,2))) AS max_ride_length\r\n",
                "FROM all_trips_cleaned\r\n",
                "WHERE all_trips_cleaned.usertype = 'Member' OR all_trips_cleaned.usertype = 'Casual'\r\n",
                "GROUP BY all_trips_cleaned.usertype;\r\n",
                ""
            ],
            "metadata": {
                "azdata_cell_guid": "f58ac348-ca44-4e47-8bb6-a92731dd71f5",
                "language": "sql"
            },
            "outputs": [
                {
                    "output_type": "display_data",
                    "data": {
                        "text/html": "(2 rows affected)"
                    },
                    "metadata": {}
                },
                {
                    "output_type": "display_data",
                    "data": {
                        "text/html": "Total execution time: 00:00:03.299"
                    },
                    "metadata": {}
                },
                {
                    "output_type": "execute_result",
                    "execution_count": 27,
                    "data": {
                        "application/vnd.dataresource+json": {
                            "schema": {
                                "fields": [
                                    {
                                        "name": "usertype"
                                    },
                                    {
                                        "name": "max_ride_length"
                                    }
                                ]
                            },
                            "data": [
                                {
                                    "0": "casual",
                                    "1": "2061244.00"
                                },
                                {
                                    "0": "member",
                                    "1": "89594.00"
                                }
                            ]
                        },
                        "text/html": "<table><tr><th>usertype</th><th>max_ride_length</th></tr><tr><td>casual</td><td>2061244.00</td></tr><tr><td>member</td><td>89594.00</td></tr></table>"
                    },
                    "metadata": {}
                }
            ],
            "execution_count": 27
        },
        {
            "cell_type": "code",
            "source": [
                "SELECT \r\n",
                "    all_trips_cleaned.usertype,\r\n",
                "    MIN(CAST(all_trips_cleaned.ride_length AS DECIMAL(18,2))) AS min_ride_length\r\n",
                "FROM all_trips_cleaned\r\n",
                "WHERE all_trips_cleaned.usertype = 'Member' OR all_trips_cleaned.usertype = 'Casual'\r\n",
                "GROUP BY all_trips_cleaned.usertype;\r\n",
                ""
            ],
            "metadata": {
                "azdata_cell_guid": "62913fee-fcf0-4ce7-8abe-06c01ec87bc6",
                "language": "sql"
            },
            "outputs": [
                {
                    "output_type": "display_data",
                    "data": {
                        "text/html": "(2 rows affected)"
                    },
                    "metadata": {}
                },
                {
                    "output_type": "display_data",
                    "data": {
                        "text/html": "Total execution time: 00:00:03.306"
                    },
                    "metadata": {}
                },
                {
                    "output_type": "execute_result",
                    "execution_count": 28,
                    "data": {
                        "application/vnd.dataresource+json": {
                            "schema": {
                                "fields": [
                                    {
                                        "name": "usertype"
                                    },
                                    {
                                        "name": "min_ride_length"
                                    }
                                ]
                            },
                            "data": [
                                {
                                    "0": "casual",
                                    "1": "0.00"
                                },
                                {
                                    "0": "member",
                                    "1": "0.00"
                                }
                            ]
                        },
                        "text/html": "<table><tr><th>usertype</th><th>min_ride_length</th></tr><tr><td>casual</td><td>0.00</td></tr><tr><td>member</td><td>0.00</td></tr></table>"
                    },
                    "metadata": {}
                }
            ],
            "execution_count": 28
        },
        {
            "cell_type": "code",
            "source": [
                "ALTER TABLE all_trips_cleaned\r\n",
                "ALTER COLUMN day_of_week varchar(50);\r\n",
                ""
            ],
            "metadata": {
                "azdata_cell_guid": "85aaa669-6fae-4eaa-a857-cc57eaee800b",
                "language": "sql"
            },
            "outputs": [
                {
                    "output_type": "display_data",
                    "data": {
                        "text/html": "Commands completed successfully."
                    },
                    "metadata": {}
                },
                {
                    "output_type": "display_data",
                    "data": {
                        "text/html": "Total execution time: 00:00:00.154"
                    },
                    "metadata": {}
                }
            ],
            "execution_count": 1
        },
        {
            "cell_type": "code",
            "source": [
                "UPDATE all_trips_cleaned\r\n",
                "SET day_of_week = CASE day_of_week \r\n",
                "                    WHEN 'Monday' THEN '1-Monday'\r\n",
                "                    WHEN 'Tuesday' THEN '2-Tuesday'\r\n",
                "                    WHEN 'Wednesday' THEN '3-Wednesday'\r\n",
                "                    WHEN 'Thursday' THEN '4-Thursday'\r\n",
                "                    WHEN 'Friday' THEN '5-Friday'\r\n",
                "                    WHEN 'Saturday' THEN '6-Saturday'\r\n",
                "                    WHEN 'Sunday' THEN '7-Sunday'\r\n",
                "                    ELSE day_of_week\r\n",
                "                 END;\r\n",
                ""
            ],
            "metadata": {
                "azdata_cell_guid": "23224259-6d52-4c83-aa36-5b163190f230",
                "language": "sql",
                "tags": []
            },
            "outputs": [
                {
                    "output_type": "display_data",
                    "data": {
                        "text/html": "(6407410 rows affected)"
                    },
                    "metadata": {}
                },
                {
                    "output_type": "display_data",
                    "data": {
                        "text/html": "Total execution time: 00:02:29.976"
                    },
                    "metadata": {}
                }
            ],
            "execution_count": 4
        },
        {
            "cell_type": "code",
            "source": [
                "SELECT \r\n",
                "    all_trips_cleaned.usertype,\r\n",
                "    all_trips_cleaned.day_of_week,\r\n",
                "    AVG(all_trips_cleaned.ride_length) AS average_duration\r\n",
                "FROM all_trips_cleaned\r\n",
                "GROUP BY all_trips_cleaned.usertype, all_trips_cleaned.day_of_week\r\n",
                "ORDER BY all_trips_cleaned.day_of_week ASC;\r\n",
                ""
            ],
            "metadata": {
                "azdata_cell_guid": "43760e05-5f0e-424d-aa13-d3e072017b2c",
                "language": "sql"
            },
            "outputs": [
                {
                    "output_type": "display_data",
                    "data": {
                        "text/html": "(14 rows affected)"
                    },
                    "metadata": {}
                },
                {
                    "output_type": "display_data",
                    "data": {
                        "text/html": "Total execution time: 00:00:02.472"
                    },
                    "metadata": {}
                },
                {
                    "output_type": "execute_result",
                    "metadata": {},
                    "execution_count": 20,
                    "data": {
                        "application/vnd.dataresource+json": {
                            "schema": {
                                "fields": [
                                    {
                                        "name": "usertype"
                                    },
                                    {
                                        "name": "day_of_week"
                                    },
                                    {
                                        "name": "average_duration"
                                    }
                                ]
                            },
                            "data": [
                                {
                                    "0": "member",
                                    "1": "1-Monday",
                                    "2": "734"
                                },
                                {
                                    "0": "casual",
                                    "1": "1-Monday",
                                    "2": "1540"
                                },
                                {
                                    "0": "member",
                                    "1": "2-Tuesday",
                                    "2": "719"
                                },
                                {
                                    "0": "casual",
                                    "1": "2-Tuesday",
                                    "2": "1324"
                                },
                                {
                                    "0": "member",
                                    "1": "3-Wednesday",
                                    "2": "719"
                                },
                                {
                                    "0": "casual",
                                    "1": "3-Wednesday",
                                    "2": "1265"
                                },
                                {
                                    "0": "member",
                                    "1": "4-Thursday",
                                    "2": "736"
                                },
                                {
                                    "0": "casual",
                                    "1": "4-Thursday",
                                    "2": "1319"
                                },
                                {
                                    "0": "casual",
                                    "1": "5-Friday",
                                    "2": "1367"
                                },
                                {
                                    "0": "member",
                                    "1": "5-Friday",
                                    "2": "741"
                                },
                                {
                                    "0": "member",
                                    "1": "6-Saturday",
                                    "2": "855"
                                },
                                {
                                    "0": "casual",
                                    "1": "6-Saturday",
                                    "2": "1637"
                                },
                                {
                                    "0": "casual",
                                    "1": "7-Sunday",
                                    "2": "1668"
                                },
                                {
                                    "0": "member",
                                    "1": "7-Sunday",
                                    "2": "848"
                                }
                            ]
                        },
                        "text/html": [
                            "<table>",
                            "<tr><th>usertype</th><th>day_of_week</th><th>average_duration</th></tr>",
                            "<tr><td>member</td><td>1-Monday</td><td>734</td></tr>",
                            "<tr><td>casual</td><td>1-Monday</td><td>1540</td></tr>",
                            "<tr><td>member</td><td>2-Tuesday</td><td>719</td></tr>",
                            "<tr><td>casual</td><td>2-Tuesday</td><td>1324</td></tr>",
                            "<tr><td>member</td><td>3-Wednesday</td><td>719</td></tr>",
                            "<tr><td>casual</td><td>3-Wednesday</td><td>1265</td></tr>",
                            "<tr><td>member</td><td>4-Thursday</td><td>736</td></tr>",
                            "<tr><td>casual</td><td>4-Thursday</td><td>1319</td></tr>",
                            "<tr><td>casual</td><td>5-Friday</td><td>1367</td></tr>",
                            "<tr><td>member</td><td>5-Friday</td><td>741</td></tr>",
                            "<tr><td>member</td><td>6-Saturday</td><td>855</td></tr>",
                            "<tr><td>casual</td><td>6-Saturday</td><td>1637</td></tr>",
                            "<tr><td>casual</td><td>7-Sunday</td><td>1668</td></tr>",
                            "<tr><td>member</td><td>7-Sunday</td><td>848</td></tr>",
                            "</table>"
                        ]
                    }
                }
            ],
            "execution_count": 20
        },
        {
            "cell_type": "code",
            "source": [
                "SELECT \r\n",
                "    all_trips_cleaned.usertype,\r\n",
                "    all_trips_cleaned.day_of_week,\r\n",
                "    COUNT(*) AS number_of_rides,\r\n",
                "    AVG(all_trips_cleaned.ride_length) AS average_duration\r\n",
                "FROM all_trips_cleaned\r\n",
                "GROUP BY all_trips_cleaned.usertype, all_trips_cleaned.day_of_week\r\n",
                "ORDER BY all_trips_cleaned.day_of_week ASC;\r\n",
                ""
            ],
            "metadata": {
                "azdata_cell_guid": "b6b23850-7637-44eb-a409-4e76d37cc51d",
                "language": "sql",
                "tags": []
            },
            "outputs": [
                {
                    "output_type": "display_data",
                    "data": {
                        "text/html": "(14 rows affected)"
                    },
                    "metadata": {}
                },
                {
                    "output_type": "display_data",
                    "data": {
                        "text/html": "Total execution time: 00:00:02.514"
                    },
                    "metadata": {}
                },
                {
                    "output_type": "execute_result",
                    "metadata": {},
                    "execution_count": 21,
                    "data": {
                        "application/vnd.dataresource+json": {
                            "schema": {
                                "fields": [
                                    {
                                        "name": "usertype"
                                    },
                                    {
                                        "name": "day_of_week"
                                    },
                                    {
                                        "name": "number_of_rides"
                                    },
                                    {
                                        "name": "average_duration"
                                    }
                                ]
                            },
                            "data": [
                                {
                                    "0": "member",
                                    "1": "1-Monday",
                                    "2": "529529",
                                    "3": "734"
                                },
                                {
                                    "0": "casual",
                                    "1": "1-Monday",
                                    "2": "319927",
                                    "3": "1540"
                                },
                                {
                                    "0": "member",
                                    "1": "2-Tuesday",
                                    "2": "582121",
                                    "3": "719"
                                },
                                {
                                    "0": "casual",
                                    "1": "2-Tuesday",
                                    "2": "295318",
                                    "3": "1324"
                                },
                                {
                                    "0": "member",
                                    "1": "3-Wednesday",
                                    "2": "577443",
                                    "3": "719"
                                },
                                {
                                    "0": "casual",
                                    "1": "3-Wednesday",
                                    "2": "298545",
                                    "3": "1265"
                                },
                                {
                                    "0": "member",
                                    "1": "4-Thursday",
                                    "2": "593928",
                                    "3": "736"
                                },
                                {
                                    "0": "casual",
                                    "1": "4-Thursday",
                                    "2": "348112",
                                    "3": "1319"
                                },
                                {
                                    "0": "casual",
                                    "1": "5-Friday",
                                    "2": "371426",
                                    "3": "1367"
                                },
                                {
                                    "0": "member",
                                    "1": "5-Friday",
                                    "2": "514365",
                                    "3": "741"
                                },
                                {
                                    "0": "member",
                                    "1": "6-Saturday",
                                    "2": "495565",
                                    "3": "855"
                                },
                                {
                                    "0": "casual",
                                    "1": "6-Saturday",
                                    "2": "565442",
                                    "3": "1637"
                                },
                                {
                                    "0": "casual",
                                    "1": "7-Sunday",
                                    "2": "475260",
                                    "3": "1668"
                                },
                                {
                                    "0": "member",
                                    "1": "7-Sunday",
                                    "2": "440429",
                                    "3": "848"
                                }
                            ]
                        },
                        "text/html": [
                            "<table>",
                            "<tr><th>usertype</th><th>day_of_week</th><th>number_of_rides</th><th>average_duration</th></tr>",
                            "<tr><td>member</td><td>1-Monday</td><td>529529</td><td>734</td></tr>",
                            "<tr><td>casual</td><td>1-Monday</td><td>319927</td><td>1540</td></tr>",
                            "<tr><td>member</td><td>2-Tuesday</td><td>582121</td><td>719</td></tr>",
                            "<tr><td>casual</td><td>2-Tuesday</td><td>295318</td><td>1324</td></tr>",
                            "<tr><td>member</td><td>3-Wednesday</td><td>577443</td><td>719</td></tr>",
                            "<tr><td>casual</td><td>3-Wednesday</td><td>298545</td><td>1265</td></tr>",
                            "<tr><td>member</td><td>4-Thursday</td><td>593928</td><td>736</td></tr>",
                            "<tr><td>casual</td><td>4-Thursday</td><td>348112</td><td>1319</td></tr>",
                            "<tr><td>casual</td><td>5-Friday</td><td>371426</td><td>1367</td></tr>",
                            "<tr><td>member</td><td>5-Friday</td><td>514365</td><td>741</td></tr>",
                            "<tr><td>member</td><td>6-Saturday</td><td>495565</td><td>855</td></tr>",
                            "<tr><td>casual</td><td>6-Saturday</td><td>565442</td><td>1637</td></tr>",
                            "<tr><td>casual</td><td>7-Sunday</td><td>475260</td><td>1668</td></tr>",
                            "<tr><td>member</td><td>7-Sunday</td><td>440429</td><td>848</td></tr>",
                            "</table>"
                        ]
                    }
                }
            ],
            "execution_count": 21
        }
    ]
}